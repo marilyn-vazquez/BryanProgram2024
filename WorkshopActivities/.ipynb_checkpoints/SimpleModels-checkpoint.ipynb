{
 "cells": [
  {
   "cell_type": "markdown",
   "id": "8605879c",
   "metadata": {},
   "source": [
    "# Intro\n",
    "\n",
    "In this notebook, we will run some models that help us predict if a patient has Cervical cancer or not. Then, we will answer some questions about the model itself and the predictions from them. The point of this exercise is for you to look at the results from the models and not to practice your coding, so I am providing all the necessary code for you. This also means that you are expected to discuss and type the answers to the questions. \n",
    "\n",
    "The data is from the [UCI Machine Learning Repository](https://archive.ics.uci.edu/dataset/383/cervical+cancer+risk+factors). This is the description from the source website: \n",
    "\n",
    "    This dataset focuses on the prediction of indicators/diagnosis  of cervical cancer. The features cover demographic information, habits, and historic medical records. The dataset was collected at 'Hospital Universitario de Caracas' in Caracas, Venezuela.   The dataset comprises demographic information, habits, and      historic medical records of 858 patients. Several patients      decided not to answer some of the questions because of privacy  concerns (missing values).\n",
    "    \n",
    "|Variable Name | Type| Meaning |\n",
    "| --- | --- | --- |\n",
    "|Age| int | Age of subject |\n",
    "|n_pregnancy| int | Num of pregnancies|\n",
    "|Smokes_years| bool | Number of years Smoking|\n",
    "|IUD_years| int | Number of years with Hormonal Contraceptives|\n",
    "|dx_cancer|bool|Previously diagnosed with cancer|\n",
    "|dx_hpv|bool|Previously diagnosed with HPV|\n",
    "|Biopsy|bool|Results from biopsy|\n"
   ]
  },
  {
   "cell_type": "markdown",
   "id": "8b7fd6fe",
   "metadata": {},
   "source": [
    "# Necessary Code\n",
    "\n",
    "Update the path for the data file in the second cell. Then, run each of the following cells. The easiest way to do this is by going to \"Cell\" and then selecting \"Run All.\"\n"
   ]
  },
  {
   "cell_type": "code",
   "execution_count": 166,
   "id": "f6a4f69c",
   "metadata": {},
   "outputs": [],
   "source": [
    "# Loading necessary packages\n",
    "import numpy as np\n",
    "import pandas as pd\n",
    "from sklearn.linear_model import LogisticRegression\n",
    "from sklearn.neighbors import KNeighborsClassifier\n",
    "from sklearn.model_selection import train_test_split"
   ]
  },
  {
   "cell_type": "code",
   "execution_count": 177,
   "id": "adbca935",
   "metadata": {},
   "outputs": [
    {
     "name": "stdout",
     "output_type": "stream",
     "text": [
      "Original shape: (858, 8)\n",
      "Number of missing values = 294\n",
      "New shape after removing observations with missing data: (689, 8)\n",
      "Number of missing values = 0\n"
     ]
    },
    {
     "data": {
      "text/html": [
       "<div>\n",
       "<style scoped>\n",
       "    .dataframe tbody tr th:only-of-type {\n",
       "        vertical-align: middle;\n",
       "    }\n",
       "\n",
       "    .dataframe tbody tr th {\n",
       "        vertical-align: top;\n",
       "    }\n",
       "\n",
       "    .dataframe thead th {\n",
       "        text-align: right;\n",
       "    }\n",
       "</style>\n",
       "<table border=\"1\" class=\"dataframe\">\n",
       "  <thead>\n",
       "    <tr style=\"text-align: right;\">\n",
       "      <th></th>\n",
       "      <th>Age</th>\n",
       "      <th>n_pregnancy</th>\n",
       "      <th>Smokes_years</th>\n",
       "      <th>horm_cont_yrs</th>\n",
       "      <th>IUD_yrs</th>\n",
       "      <th>dx_cancer</th>\n",
       "      <th>dx_hpv</th>\n",
       "      <th>Biopsy</th>\n",
       "    </tr>\n",
       "  </thead>\n",
       "  <tbody>\n",
       "    <tr>\n",
       "      <th>0</th>\n",
       "      <td>18</td>\n",
       "      <td>1</td>\n",
       "      <td>0</td>\n",
       "      <td>0</td>\n",
       "      <td>0</td>\n",
       "      <td>0</td>\n",
       "      <td>0</td>\n",
       "      <td>0</td>\n",
       "    </tr>\n",
       "    <tr>\n",
       "      <th>1</th>\n",
       "      <td>15</td>\n",
       "      <td>1</td>\n",
       "      <td>0</td>\n",
       "      <td>0</td>\n",
       "      <td>0</td>\n",
       "      <td>0</td>\n",
       "      <td>0</td>\n",
       "      <td>0</td>\n",
       "    </tr>\n",
       "    <tr>\n",
       "      <th>2</th>\n",
       "      <td>34</td>\n",
       "      <td>1</td>\n",
       "      <td>0</td>\n",
       "      <td>0</td>\n",
       "      <td>0</td>\n",
       "      <td>0</td>\n",
       "      <td>0</td>\n",
       "      <td>0</td>\n",
       "    </tr>\n",
       "    <tr>\n",
       "      <th>3</th>\n",
       "      <td>52</td>\n",
       "      <td>4</td>\n",
       "      <td>37</td>\n",
       "      <td>3</td>\n",
       "      <td>0</td>\n",
       "      <td>1</td>\n",
       "      <td>1</td>\n",
       "      <td>0</td>\n",
       "    </tr>\n",
       "    <tr>\n",
       "      <th>4</th>\n",
       "      <td>46</td>\n",
       "      <td>4</td>\n",
       "      <td>0</td>\n",
       "      <td>15</td>\n",
       "      <td>0</td>\n",
       "      <td>0</td>\n",
       "      <td>0</td>\n",
       "      <td>0</td>\n",
       "    </tr>\n",
       "  </tbody>\n",
       "</table>\n",
       "</div>"
      ],
      "text/plain": [
       "   Age n_pregnancy Smokes_years horm_cont_yrs IUD_yrs  dx_cancer  dx_hpv  \\\n",
       "0   18           1            0             0       0          0       0   \n",
       "1   15           1            0             0       0          0       0   \n",
       "2   34           1            0             0       0          0       0   \n",
       "3   52           4           37             3       0          1       1   \n",
       "4   46           4            0            15       0          0       0   \n",
       "\n",
       "   Biopsy  \n",
       "0       0  \n",
       "1       0  \n",
       "2       0  \n",
       "3       0  \n",
       "4       0  "
      ]
     },
     "execution_count": 177,
     "metadata": {},
     "output_type": "execute_result"
    }
   ],
   "source": [
    "## Loading data\n",
    "clean_cervical_cancer = pd.read_csv(\"/Users/marilyn.vazquez/Documents/GitHub/BryanProgram2024/WorkshopActivities/updated_risk_factors_cervical_cancer.csv\")\n",
    "print('Original shape: ' + str(clean_cervical_cancer.shape))\n",
    "\n",
    "## Cleaning the data\n",
    "\n",
    "# Getting rid of rows with missing values\n",
    "clean_cervical_cancer = clean_cervical_cancer.replace(\"?\",np.nan)\n",
    "print('Number of missing values = ' + str(clean_cervical_cancer.isnull().sum().sum()))\n",
    "rows_not_nans = ~clean_cervical_cancer.isnull().any(axis=1)\n",
    "clean_cervical_cancer = clean_cervical_cancer.loc[rows_nans]\n",
    "print('New shape after removing observations with missing data: ' + str(clean_cervical_cancer.shape))\n",
    "print('Number of missing values = ' + str(clean_cervical_cancer.isnull().sum().sum()))\n",
    "\n",
    "clean_cervical_cancer.head()"
   ]
  },
  {
   "cell_type": "code",
   "execution_count": 117,
   "id": "ed771ba3",
   "metadata": {},
   "outputs": [
    {
     "name": "stdout",
     "output_type": "stream",
     "text": [
      "Number of risk factors = 7\n",
      "Number of training observations = 516\n",
      "Number of testing observations = 173\n"
     ]
    }
   ],
   "source": [
    "## Splitting the data for training and testing\n",
    "\n",
    "# Dividing features from labels\n",
    "cols = clean_cervical_cancer.columns[0:7]\n",
    "risk_factors = np.array(clean_cervical_cancer.iloc[:,0:7]).astype('float')\n",
    "biopsy = np.array(clean_cervical_cancer['Biopsy']).astype('float')\n",
    "\n",
    "# Transforming the data for training and testing\n",
    "risk_factors = (risk_factors - risk_factors.mean())/risk_factors.std()\n",
    "\n",
    "# Putting it back to pandas\n",
    "risk_factors = pd.DataFrame(risk_factors,columns=cols)\n",
    "\n",
    "# Splitting\n",
    "X_train, X_test, y_train, y_test = train_test_split(\n",
    "    risk_factors, biopsy, test_size=0.25, random_state=0)\n",
    "\n",
    "print('Number of risk factors = ' + str(np.shape(X_train)[1]))\n",
    "print('Number of training observations = '+ str(np.shape(X_train)[0]))\n",
    "print('Number of testing observations = ' + str(np.shape(X_test)[0]))"
   ]
  },
  {
   "cell_type": "markdown",
   "id": "b2ed6775",
   "metadata": {},
   "source": [
    "### Questions about the data\n",
    "\n",
    "The previous code went through some cleaning. Before we move on to the actual models, let's make sure we understand the basics of the data and what was done to clean it.\n",
    "\n",
    "Answer the following questions:\n",
    "\n",
    "1. What are the risk factors for cervical cancer in this data set?\n",
    "\n",
    "2. How many patients were in the original data?\n",
    "\n",
    "3. How many patients had missing information in the original data?\n",
    "\n",
    "4. How many missing values are there in the clean version of the data?\n",
    "\n",
    "5. What type of data is contained in the column \"Biopsy\" and how is it encoded?\n",
    "\n",
    "6. How many observations ended in the training data? What about the testing data?\n",
    "\n",
    "7. What types of plots would you do to explore this dataset?"
   ]
  },
  {
   "cell_type": "markdown",
   "id": "bf781a52",
   "metadata": {},
   "source": [
    "# Models\n",
    "\n",
    "Now we will move on to training and evaluating two models: logistic regression and K-Nearest Neighbors. "
   ]
  },
  {
   "cell_type": "code",
   "execution_count": 157,
   "id": "bea2a74a",
   "metadata": {},
   "outputs": [
    {
     "data": {
      "text/html": [
       "<div>\n",
       "<style scoped>\n",
       "    .dataframe tbody tr th:only-of-type {\n",
       "        vertical-align: middle;\n",
       "    }\n",
       "\n",
       "    .dataframe tbody tr th {\n",
       "        vertical-align: top;\n",
       "    }\n",
       "\n",
       "    .dataframe thead th {\n",
       "        text-align: right;\n",
       "    }\n",
       "</style>\n",
       "<table border=\"1\" class=\"dataframe\">\n",
       "  <thead>\n",
       "    <tr style=\"text-align: right;\">\n",
       "      <th></th>\n",
       "      <th>Coefficients</th>\n",
       "      <th>Odds Ratio</th>\n",
       "    </tr>\n",
       "  </thead>\n",
       "  <tbody>\n",
       "    <tr>\n",
       "      <th>Age</th>\n",
       "      <td>0.064651</td>\n",
       "      <td>1.066787</td>\n",
       "    </tr>\n",
       "    <tr>\n",
       "      <th>n_pregnancy</th>\n",
       "      <td>0.039389</td>\n",
       "      <td>1.040175</td>\n",
       "    </tr>\n",
       "    <tr>\n",
       "      <th>Smokes_years</th>\n",
       "      <td>0.381729</td>\n",
       "      <td>1.464815</td>\n",
       "    </tr>\n",
       "    <tr>\n",
       "      <th>horm_cont_yrs</th>\n",
       "      <td>0.748853</td>\n",
       "      <td>2.114573</td>\n",
       "    </tr>\n",
       "    <tr>\n",
       "      <th>IUD_yrs</th>\n",
       "      <td>0.650170</td>\n",
       "      <td>1.915866</td>\n",
       "    </tr>\n",
       "    <tr>\n",
       "      <th>dx_cancer</th>\n",
       "      <td>0.269470</td>\n",
       "      <td>1.309270</td>\n",
       "    </tr>\n",
       "    <tr>\n",
       "      <th>dx_hpv</th>\n",
       "      <td>0.278363</td>\n",
       "      <td>1.320966</td>\n",
       "    </tr>\n",
       "  </tbody>\n",
       "</table>\n",
       "</div>"
      ],
      "text/plain": [
       "               Coefficients  Odds Ratio\n",
       "Age                0.064651    1.066787\n",
       "n_pregnancy        0.039389    1.040175\n",
       "Smokes_years       0.381729    1.464815\n",
       "horm_cont_yrs      0.748853    2.114573\n",
       "IUD_yrs            0.650170    1.915866\n",
       "dx_cancer          0.269470    1.309270\n",
       "dx_hpv             0.278363    1.320966"
      ]
     },
     "execution_count": 157,
     "metadata": {},
     "output_type": "execute_result"
    }
   ],
   "source": [
    "# Training the log regression\n",
    "log_reg_model = LogisticRegression(random_state=0).fit(X_train, y_train)\n",
    "log_reg_model.predict(X_train)\n",
    "\n",
    "# Pretty table\n",
    "pd.DataFrame(np.hstack([np.transpose(np.array(log_reg_model.coef_)), np.transpose(np.array(np.exp(log_reg_model.coef_)))]),index=cols, columns = ['Coefficients','Odds Ratio'])\n"
   ]
  },
  {
   "cell_type": "code",
   "execution_count": 159,
   "id": "33ef195a",
   "metadata": {},
   "outputs": [
    {
     "name": "stdout",
     "output_type": "stream",
     "text": [
      "Average accuracy of Log regression on training set:\n"
     ]
    },
    {
     "data": {
      "text/plain": [
       "0.9282945736434108"
      ]
     },
     "execution_count": 159,
     "metadata": {},
     "output_type": "execute_result"
    }
   ],
   "source": [
    "# Testing the log regression\n",
    "print('Average accuracy of Log regression on training set:')\n",
    "log_reg_model.score(X_train,y_train)"
   ]
  },
  {
   "cell_type": "markdown",
   "id": "933061f5",
   "metadata": {},
   "source": [
    "8. After running the previous code, interpret the results.\n"
   ]
  },
  {
   "cell_type": "code",
   "execution_count": 163,
   "id": "0d04445c",
   "metadata": {},
   "outputs": [],
   "source": [
    "# Training the KNN\n",
    "knn_model = KNeighborsClassifier(n_neighbors=16).fit(X_train, y_train)"
   ]
  },
  {
   "cell_type": "code",
   "execution_count": 164,
   "id": "32b3af39",
   "metadata": {},
   "outputs": [
    {
     "name": "stdout",
     "output_type": "stream",
     "text": [
      "Average accuracy of KNN on training set:\n"
     ]
    },
    {
     "data": {
      "text/plain": [
       "0.9421965317919075"
      ]
     },
     "execution_count": 164,
     "metadata": {},
     "output_type": "execute_result"
    }
   ],
   "source": [
    "# Testing the KNN\n",
    "print('Average accuracy of KNN on training set:')\n",
    "knn_model.score(X_test,y_test)"
   ]
  },
  {
   "cell_type": "markdown",
   "id": "9f9a6431",
   "metadata": {},
   "source": [
    "9. After running the previous code, interpret the results.\n",
    "\n",
    "10. Next, compare and contrast what you learned from both models.\n",
    "\n",
    "11. Which method was more accurate and by how much?\n",
    "\n",
    "12. When would you use the logistic model? Why?\n",
    "\n",
    "13. When would you use KNN? Why?\n",
    "\n",
    "14. Suppose that the same values in the data are used to train and test both models but instead of the columns representing risk factors for cervical cancer, they represent characteristics of applicants for a job. Also, instead of the labels being biopsy results, they are indicators of whether the applicant got the job or not. Since the numbers are the same, when you feed them to the models, they resulting values will be the same. How the the interpretations change? "
   ]
  }
 ],
 "metadata": {
  "kernelspec": {
   "display_name": "Python 3",
   "language": "python",
   "name": "python3"
  },
  "language_info": {
   "codemirror_mode": {
    "name": "ipython",
    "version": 3
   },
   "file_extension": ".py",
   "mimetype": "text/x-python",
   "name": "python",
   "nbconvert_exporter": "python",
   "pygments_lexer": "ipython3",
   "version": "3.8.8"
  }
 },
 "nbformat": 4,
 "nbformat_minor": 5
}
